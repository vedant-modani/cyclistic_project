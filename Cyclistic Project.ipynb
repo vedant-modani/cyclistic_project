{
 "cells": [
  {
   "cell_type": "markdown",
   "id": "9670ee48",
   "metadata": {},
   "source": [
    "# Google Data Analytics Professional Certificate Capstone Project\n",
    "\n",
    "## Case Study: How Does a Bike-Share Navigate Speedy Success?\n",
    "\n",
    "This project is part of the Google Data Analytics Professional Certification. Cyclistic, a bike-share company in Chicago has been chosen as the subject of the project. The project is aimed at finding the usage trends of annual and casual users. \n",
    "\n",
    "The company has a fleet of over 5800 geotagged bikes and a network of over 600 stations across Chicago. The service offers 3 types of plans: A single ride pass; a full-day pass; and annual memberships. Single-ride and full-day customers are called Casual Riders while Annual plan customers are Cyclistic Members\n",
    "\n",
    "Annual Members have been identified as much more profitable than Casual Riders. The management has outlined that the flexibility of products will help attract more customers overall, but real growth will only be seen with more members. \n",
    "\n",
    "Rather than spending money on attracting all-new customers who have not heard of and/or never tried the service, it will be more efficient and beneficial to convert the existing Casual Riders who already know and trust Cyclistic \n",
    "\n",
    "##### The goal of this project is to understand how casual riders and annual members differ. Why Casual Riders would be willing to upgrade to a membership. \n",
    "\n",
    "The data is provided by Motivate International Inc with the following licence: https://www.divvybikes.com/data-license-agreement\n",
    "The data includes ride details of all the rides done on the bikes of the company during the calendar year 2022. No personal or customer data was shared. This means we can not identify the members or even the number of each category of rider. We can only classify the rides into categories."
   ]
  },
  {
   "cell_type": "markdown",
   "id": "d3caca7c",
   "metadata": {},
   "source": [
    "### 1. Preparing the data"
   ]
  },
  {
   "cell_type": "markdown",
   "id": "7b08ebbf",
   "metadata": {},
   "source": [
    "#### Loading and verifying data"
   ]
  },
  {
   "cell_type": "code",
   "execution_count": 1,
   "id": "5c7a339a",
   "metadata": {},
   "outputs": [],
   "source": [
    "# Importing the libraries\n",
    "import pandas as pd\n",
    "import numpy as np\n",
    "import seaborn as sns\n",
    "import matplotlib.pyplot as plt\n",
    "sns.set_style(\"dark\")"
   ]
  },
  {
   "cell_type": "code",
   "execution_count": 2,
   "id": "9549ea4a",
   "metadata": {},
   "outputs": [],
   "source": [
    "# Importing all 12 files\n",
    "df1 = pd.read_csv('202201-divvy-tripdata.csv')\n",
    "df2 = pd.read_csv('202202-divvy-tripdata.csv')\n",
    "df3 = pd.read_csv('202203-divvy-tripdata.csv')\n",
    "df4 = pd.read_csv('202204-divvy-tripdata.csv')\n",
    "df5 = pd.read_csv('202205-divvy-tripdata.csv')\n",
    "df6 = pd.read_csv('202206-divvy-tripdata.csv')\n",
    "df7 = pd.read_csv('202207-divvy-tripdata.csv')\n",
    "df8 = pd.read_csv('202208-divvy-tripdata.csv')\n",
    "df9 = pd.read_csv('202209-divvy-tripdata.csv')\n",
    "df10 = pd.read_csv('202210-divvy-tripdata.csv')\n",
    "df11 = pd.read_csv('202211-divvy-tripdata.csv')\n",
    "df12 = pd.read_csv('202212-divvy-tripdata.csv')"
   ]
  },
  {
   "cell_type": "code",
   "execution_count": 3,
   "id": "b8078907",
   "metadata": {},
   "outputs": [],
   "source": [
    "# Combining all 12 dataframes into 1 dataframe\n",
    "tripdata = pd.concat([df1, df2, df3, df4, df5, df6, df7, df8, df9, df10, df11, df12])"
   ]
  },
  {
   "cell_type": "code",
   "execution_count": 4,
   "id": "06c4191e",
   "metadata": {},
   "outputs": [
    {
     "data": {
      "text/html": [
       "<div>\n",
       "<style scoped>\n",
       "    .dataframe tbody tr th:only-of-type {\n",
       "        vertical-align: middle;\n",
       "    }\n",
       "\n",
       "    .dataframe tbody tr th {\n",
       "        vertical-align: top;\n",
       "    }\n",
       "\n",
       "    .dataframe thead th {\n",
       "        text-align: right;\n",
       "    }\n",
       "</style>\n",
       "<table border=\"1\" class=\"dataframe\">\n",
       "  <thead>\n",
       "    <tr style=\"text-align: right;\">\n",
       "      <th></th>\n",
       "      <th>ride_id</th>\n",
       "      <th>rideable_type</th>\n",
       "      <th>started_at</th>\n",
       "      <th>ended_at</th>\n",
       "      <th>start_station_name</th>\n",
       "      <th>start_station_id</th>\n",
       "      <th>end_station_name</th>\n",
       "      <th>end_station_id</th>\n",
       "      <th>start_lat</th>\n",
       "      <th>start_lng</th>\n",
       "      <th>end_lat</th>\n",
       "      <th>end_lng</th>\n",
       "      <th>member_casual</th>\n",
       "    </tr>\n",
       "  </thead>\n",
       "  <tbody>\n",
       "    <tr>\n",
       "      <th>0</th>\n",
       "      <td>C2F7DD78E82EC875</td>\n",
       "      <td>electric_bike</td>\n",
       "      <td>2022-01-13 11:59:47</td>\n",
       "      <td>2022-01-13 12:02:44</td>\n",
       "      <td>Glenwood Ave &amp; Touhy Ave</td>\n",
       "      <td>525</td>\n",
       "      <td>Clark St &amp; Touhy Ave</td>\n",
       "      <td>RP-007</td>\n",
       "      <td>42.012800</td>\n",
       "      <td>-87.665906</td>\n",
       "      <td>42.012560</td>\n",
       "      <td>-87.674367</td>\n",
       "      <td>casual</td>\n",
       "    </tr>\n",
       "    <tr>\n",
       "      <th>1</th>\n",
       "      <td>A6CF8980A652D272</td>\n",
       "      <td>electric_bike</td>\n",
       "      <td>2022-01-10 08:41:56</td>\n",
       "      <td>2022-01-10 08:46:17</td>\n",
       "      <td>Glenwood Ave &amp; Touhy Ave</td>\n",
       "      <td>525</td>\n",
       "      <td>Clark St &amp; Touhy Ave</td>\n",
       "      <td>RP-007</td>\n",
       "      <td>42.012763</td>\n",
       "      <td>-87.665967</td>\n",
       "      <td>42.012560</td>\n",
       "      <td>-87.674367</td>\n",
       "      <td>casual</td>\n",
       "    </tr>\n",
       "    <tr>\n",
       "      <th>2</th>\n",
       "      <td>BD0F91DFF741C66D</td>\n",
       "      <td>classic_bike</td>\n",
       "      <td>2022-01-25 04:53:40</td>\n",
       "      <td>2022-01-25 04:58:01</td>\n",
       "      <td>Sheffield Ave &amp; Fullerton Ave</td>\n",
       "      <td>TA1306000016</td>\n",
       "      <td>Greenview Ave &amp; Fullerton Ave</td>\n",
       "      <td>TA1307000001</td>\n",
       "      <td>41.925602</td>\n",
       "      <td>-87.653708</td>\n",
       "      <td>41.925330</td>\n",
       "      <td>-87.665800</td>\n",
       "      <td>member</td>\n",
       "    </tr>\n",
       "    <tr>\n",
       "      <th>3</th>\n",
       "      <td>CBB80ED419105406</td>\n",
       "      <td>classic_bike</td>\n",
       "      <td>2022-01-04 00:18:04</td>\n",
       "      <td>2022-01-04 00:33:00</td>\n",
       "      <td>Clark St &amp; Bryn Mawr Ave</td>\n",
       "      <td>KA1504000151</td>\n",
       "      <td>Paulina St &amp; Montrose Ave</td>\n",
       "      <td>TA1309000021</td>\n",
       "      <td>41.983593</td>\n",
       "      <td>-87.669154</td>\n",
       "      <td>41.961507</td>\n",
       "      <td>-87.671387</td>\n",
       "      <td>casual</td>\n",
       "    </tr>\n",
       "    <tr>\n",
       "      <th>4</th>\n",
       "      <td>DDC963BFDDA51EEA</td>\n",
       "      <td>classic_bike</td>\n",
       "      <td>2022-01-20 01:31:10</td>\n",
       "      <td>2022-01-20 01:37:12</td>\n",
       "      <td>Michigan Ave &amp; Jackson Blvd</td>\n",
       "      <td>TA1309000002</td>\n",
       "      <td>State St &amp; Randolph St</td>\n",
       "      <td>TA1305000029</td>\n",
       "      <td>41.877850</td>\n",
       "      <td>-87.624080</td>\n",
       "      <td>41.884621</td>\n",
       "      <td>-87.627834</td>\n",
       "      <td>member</td>\n",
       "    </tr>\n",
       "  </tbody>\n",
       "</table>\n",
       "</div>"
      ],
      "text/plain": [
       "            ride_id  rideable_type           started_at             ended_at  \\\n",
       "0  C2F7DD78E82EC875  electric_bike  2022-01-13 11:59:47  2022-01-13 12:02:44   \n",
       "1  A6CF8980A652D272  electric_bike  2022-01-10 08:41:56  2022-01-10 08:46:17   \n",
       "2  BD0F91DFF741C66D   classic_bike  2022-01-25 04:53:40  2022-01-25 04:58:01   \n",
       "3  CBB80ED419105406   classic_bike  2022-01-04 00:18:04  2022-01-04 00:33:00   \n",
       "4  DDC963BFDDA51EEA   classic_bike  2022-01-20 01:31:10  2022-01-20 01:37:12   \n",
       "\n",
       "              start_station_name start_station_id  \\\n",
       "0       Glenwood Ave & Touhy Ave              525   \n",
       "1       Glenwood Ave & Touhy Ave              525   \n",
       "2  Sheffield Ave & Fullerton Ave     TA1306000016   \n",
       "3       Clark St & Bryn Mawr Ave     KA1504000151   \n",
       "4    Michigan Ave & Jackson Blvd     TA1309000002   \n",
       "\n",
       "                end_station_name end_station_id  start_lat  start_lng  \\\n",
       "0           Clark St & Touhy Ave         RP-007  42.012800 -87.665906   \n",
       "1           Clark St & Touhy Ave         RP-007  42.012763 -87.665967   \n",
       "2  Greenview Ave & Fullerton Ave   TA1307000001  41.925602 -87.653708   \n",
       "3      Paulina St & Montrose Ave   TA1309000021  41.983593 -87.669154   \n",
       "4         State St & Randolph St   TA1305000029  41.877850 -87.624080   \n",
       "\n",
       "     end_lat    end_lng member_casual  \n",
       "0  42.012560 -87.674367        casual  \n",
       "1  42.012560 -87.674367        casual  \n",
       "2  41.925330 -87.665800        member  \n",
       "3  41.961507 -87.671387        casual  \n",
       "4  41.884621 -87.627834        member  "
      ]
     },
     "execution_count": 4,
     "metadata": {},
     "output_type": "execute_result"
    }
   ],
   "source": [
    "# Verifying the dataframe\n",
    "tripdata.head()"
   ]
  },
  {
   "cell_type": "code",
   "execution_count": 5,
   "id": "c176ed69",
   "metadata": {},
   "outputs": [
    {
     "name": "stdout",
     "output_type": "stream",
     "text": [
      "The combined dataset has 5667717 records and 13 columns.\n"
     ]
    }
   ],
   "source": [
    "# Checking the shape of the dataset\n",
    "print(\"The combined dataset has\",tripdata.shape[0],\"records and\",tripdata.shape[1],\"columns.\")"
   ]
  },
  {
   "cell_type": "code",
   "execution_count": 6,
   "id": "76b2c761",
   "metadata": {
    "scrolled": true
   },
   "outputs": [
    {
     "data": {
      "text/plain": [
       "ride_id                object\n",
       "rideable_type          object\n",
       "started_at             object\n",
       "ended_at               object\n",
       "start_station_name     object\n",
       "start_station_id       object\n",
       "end_station_name       object\n",
       "end_station_id         object\n",
       "start_lat             float64\n",
       "start_lng             float64\n",
       "end_lat               float64\n",
       "end_lng               float64\n",
       "member_casual          object\n",
       "dtype: object"
      ]
     },
     "execution_count": 6,
     "metadata": {},
     "output_type": "execute_result"
    }
   ],
   "source": [
    "# Checking the data types\n",
    "tripdata.dtypes"
   ]
  },
  {
   "cell_type": "markdown",
   "id": "7dc4fbb4",
   "metadata": {},
   "source": [
    "### 2. Processing the data"
   ]
  },
  {
   "cell_type": "markdown",
   "id": "96c39bf5",
   "metadata": {},
   "source": [
    "#### Cleaning Data"
   ]
  },
  {
   "cell_type": "code",
   "execution_count": 7,
   "id": "bbacce49",
   "metadata": {
    "scrolled": false
   },
   "outputs": [
    {
     "data": {
      "text/plain": [
       "ride_id                    0\n",
       "rideable_type              0\n",
       "started_at                 0\n",
       "ended_at                   0\n",
       "start_station_name    833064\n",
       "start_station_id      833064\n",
       "end_station_name      892742\n",
       "end_station_id        892742\n",
       "start_lat                  0\n",
       "start_lng                  0\n",
       "end_lat                 5858\n",
       "end_lng                 5858\n",
       "member_casual              0\n",
       "dtype: int64"
      ]
     },
     "execution_count": 7,
     "metadata": {},
     "output_type": "execute_result"
    }
   ],
   "source": [
    "# Checking for empty values\n",
    "tripdata.isnull().sum()"
   ]
  },
  {
   "cell_type": "code",
   "execution_count": 8,
   "id": "739a8a8c",
   "metadata": {},
   "outputs": [],
   "source": [
    "# Dropping records with null values\n",
    "tripdata.dropna(subset=['start_station_name'], inplace=True)\n",
    "tripdata.dropna(subset=['start_station_id'], inplace=True)\n",
    "tripdata.dropna(subset=['end_station_name'], inplace=True)\n",
    "tripdata.dropna(subset=['end_station_id'], inplace=True)\n",
    "tripdata.dropna(subset=['end_lat'], inplace=True)\n",
    "tripdata.dropna(subset=['end_lng'], inplace=True)"
   ]
  },
  {
   "cell_type": "code",
   "execution_count": 9,
   "id": "df8f1292",
   "metadata": {
    "scrolled": true
   },
   "outputs": [
    {
     "data": {
      "text/plain": [
       "ride_id               0\n",
       "rideable_type         0\n",
       "started_at            0\n",
       "ended_at              0\n",
       "start_station_name    0\n",
       "start_station_id      0\n",
       "end_station_name      0\n",
       "end_station_id        0\n",
       "start_lat             0\n",
       "start_lng             0\n",
       "end_lat               0\n",
       "end_lng               0\n",
       "member_casual         0\n",
       "dtype: int64"
      ]
     },
     "execution_count": 9,
     "metadata": {},
     "output_type": "execute_result"
    }
   ],
   "source": [
    "# Verifying that all records with empty values are removed\n",
    "tripdata.isnull().sum()"
   ]
  },
  {
   "cell_type": "markdown",
   "id": "fca83c11",
   "metadata": {},
   "source": [
    "Records that reflect test or maintainence rides should be removed"
   ]
  },
  {
   "cell_type": "code",
   "execution_count": 10,
   "id": "c88fd907",
   "metadata": {},
   "outputs": [],
   "source": [
    "# Dropping records with station names containing 'Base'\n",
    "tripdata = tripdata[~tripdata['start_station_name'].str.contains('Base')]\n",
    "tripdata = tripdata[~tripdata['end_station_name'].str.contains('Base')]"
   ]
  },
  {
   "cell_type": "code",
   "execution_count": 11,
   "id": "40aebf9d",
   "metadata": {},
   "outputs": [],
   "source": [
    "# Dropping records with station ids containing 'DIVVY'\n",
    "tripdata = tripdata[~tripdata['start_station_name'].str.contains('DIVVY')]\n",
    "tripdata = tripdata[~tripdata['end_station_name'].str.contains('DIVVY')]"
   ]
  },
  {
   "cell_type": "code",
   "execution_count": 12,
   "id": "521f4bd1",
   "metadata": {},
   "outputs": [],
   "source": [
    "# Dropping records with station ids containing 'TEST'\n",
    "tripdata = tripdata[~tripdata['start_station_id'].str.contains('TEST')]\n",
    "tripdata = tripdata[~tripdata['end_station_id'].str.contains('TEST')]"
   ]
  },
  {
   "cell_type": "code",
   "execution_count": 13,
   "id": "e552bc66",
   "metadata": {},
   "outputs": [],
   "source": [
    "# Dropping records with station ids containing 'charging'\n",
    "tripdata = tripdata[~tripdata['start_station_id'].str.contains('charging')]\n",
    "tripdata = tripdata[~tripdata['end_station_id'].str.contains('charging')]"
   ]
  },
  {
   "cell_type": "code",
   "execution_count": 14,
   "id": "adf0567e",
   "metadata": {},
   "outputs": [],
   "source": [
    "# Keeping only rides with a valid ride_id of 16 characters\n",
    "tripdata = tripdata[tripdata['ride_id'].str.len()==16]"
   ]
  },
  {
   "cell_type": "markdown",
   "id": "75fe6e97",
   "metadata": {},
   "source": [
    "#### Transforming Data"
   ]
  },
  {
   "cell_type": "markdown",
   "id": "0e120ed8",
   "metadata": {},
   "source": [
    "Fields like started_at and ended_at need to be converted to computable time. And trip length will be calculated."
   ]
  },
  {
   "cell_type": "code",
   "execution_count": 15,
   "id": "7ee7b299",
   "metadata": {},
   "outputs": [],
   "source": [
    "# Transforming the started and ended columns into datetime\n",
    "tripdata['started_at'] = pd.to_datetime(tripdata['started_at'], format='%Y-%m-%d %H:%M:%S')\n",
    "tripdata['ended_at'] = pd.to_datetime(tripdata['ended_at'], format='%Y-%m-%d %H:%M:%S')"
   ]
  },
  {
   "cell_type": "code",
   "execution_count": 16,
   "id": "6c4959ee",
   "metadata": {},
   "outputs": [],
   "source": [
    "tripdata['month'] = pd.DatetimeIndex(tripdata[\"started_at\"]).month"
   ]
  },
  {
   "cell_type": "code",
   "execution_count": 17,
   "id": "11c6bb9f",
   "metadata": {},
   "outputs": [],
   "source": [
    "# Adding the new column for triplength\n",
    "tripdata['trip_length'] = tripdata['ended_at'] - tripdata['started_at']"
   ]
  },
  {
   "cell_type": "code",
   "execution_count": 18,
   "id": "2791ba54",
   "metadata": {},
   "outputs": [],
   "source": [
    "# Adding a new column of trip_seconds for calculations\n",
    "tripdata['trip_seconds'] = tripdata['trip_length'].dt.total_seconds()"
   ]
  },
  {
   "cell_type": "code",
   "execution_count": 19,
   "id": "d00ccf8a",
   "metadata": {},
   "outputs": [],
   "source": [
    "# Adding the new column for day of the week\n",
    "tripdata['day_of_week'] = tripdata['started_at'].dt.day_name()"
   ]
  },
  {
   "cell_type": "markdown",
   "id": "424e4ce2",
   "metadata": {},
   "source": [
    "The latitude and longitude values are rounded to 3 places after the decimal so that they can be groupped and plotted on a map in a more intuitive way. https://blis.com/precision-matters-critical-importance-decimal-places-five-lowest-go/#:~:text=So%2C%20as%20you%20can%20see,six%20can%20identify%20a%20person states that the distance between 2 points with the precision of 3 places after the decimal is about 100 meters."
   ]
  },
  {
   "cell_type": "code",
   "execution_count": 20,
   "id": "979c2fb2",
   "metadata": {},
   "outputs": [],
   "source": [
    "# Rounding the latitude and longitude values to 3 places after the decimal for the required accuracy\n",
    "tripdata['start_lat'] = tripdata['start_lat'].round(3)\n",
    "tripdata['start_lng'] = tripdata['start_lng'].round(3)\n",
    "tripdata['end_lat'] = tripdata['end_lat'].round(3)\n",
    "tripdata['end_lng'] = tripdata['end_lng'].round(3)"
   ]
  },
  {
   "cell_type": "markdown",
   "id": "8925576d",
   "metadata": {},
   "source": [
    "To keep the data relevent, we will remove the records that have a ride length of more than 24 hours and less than 1 minute."
   ]
  },
  {
   "cell_type": "code",
   "execution_count": 21,
   "id": "ffda6181",
   "metadata": {},
   "outputs": [
    {
     "name": "stdout",
     "output_type": "stream",
     "text": [
      "There are  4222071  valid and  0 invalid records based on the trip length constraint.\n"
     ]
    }
   ],
   "source": [
    "# Checking how many records are valid and invalid based on the trip_length constraint\n",
    "valid = tripdata[(tripdata['trip_length'] >= '0 days 00:01:00') & (tripdata['trip_length']<'1 days 00:00:00')]\n",
    "invalid = tripdata[(tripdata['trip_length'] < '0 days 00:01:00') & (tripdata['trip_length']>='1 days 00:00:00')]\n",
    "print(\"There are \",len(valid), \" valid and \",len(invalid), \"invalid records based on the trip length constraint.\")"
   ]
  },
  {
   "cell_type": "code",
   "execution_count": 22,
   "id": "aa80b9ff",
   "metadata": {},
   "outputs": [],
   "source": [
    "# Keeping only the rides that have a trip length of more than 1 minutes\n",
    "tripdata = tripdata[tripdata['trip_length']>'0 days 00:01:00']"
   ]
  },
  {
   "cell_type": "code",
   "execution_count": 23,
   "id": "8066bfa8",
   "metadata": {},
   "outputs": [],
   "source": [
    "# Keeping only the rides that have a trip length of less than 24 hours\n",
    "tripdata = tripdata[tripdata['trip_length']<'1 days 00:00:00']"
   ]
  },
  {
   "cell_type": "markdown",
   "id": "dade3645",
   "metadata": {},
   "source": [
    "The trips with the same start and end station and a ride shorter than 2 minutes will be filtered out."
   ]
  },
  {
   "cell_type": "code",
   "execution_count": 24,
   "id": "195587c4",
   "metadata": {},
   "outputs": [],
   "source": [
    "# Identifying the rides with same start and end station \n",
    "tripdata['same_station'] = tripdata['start_station_id'] == tripdata['end_station_id']"
   ]
  },
  {
   "cell_type": "code",
   "execution_count": 25,
   "id": "d6f71c81",
   "metadata": {},
   "outputs": [],
   "source": [
    "# Filtering out records with same start and end station and less than 2 minute ride\n",
    "tripdata = tripdata[~(tripdata['same_station'] & (tripdata['trip_length'] < pd.Timedelta('0 days 00:02:00')))]"
   ]
  },
  {
   "cell_type": "code",
   "execution_count": 26,
   "id": "5b0ef133",
   "metadata": {},
   "outputs": [],
   "source": [
    "# Dropping the same_station column as it is no longer needed\n",
    "tripdata = tripdata.drop(columns=['same_station'])"
   ]
  },
  {
   "cell_type": "code",
   "execution_count": 27,
   "id": "500831a5",
   "metadata": {
    "scrolled": true
   },
   "outputs": [
    {
     "name": "stdout",
     "output_type": "stream",
     "text": [
      "The combined dataset has 4198497 records and 17 columns.\n"
     ]
    }
   ],
   "source": [
    "# Checking the shape of the dataset after all cleaning and transformation.\n",
    "print(\"The combined dataset has\",tripdata.shape[0],\"records and\",tripdata.shape[1],\"columns.\")"
   ]
  },
  {
   "cell_type": "markdown",
   "id": "4ef4bbf3",
   "metadata": {},
   "source": [
    "Now that the data preparation and transformation is over, we can proceed to analyse it"
   ]
  },
  {
   "cell_type": "markdown",
   "id": "fb838429",
   "metadata": {},
   "source": [
    "### 3. Analysing the data"
   ]
  },
  {
   "cell_type": "markdown",
   "id": "fb7d320d",
   "metadata": {},
   "source": [
    "#### Distribution of rides among user type"
   ]
  },
  {
   "cell_type": "code",
   "execution_count": 54,
   "id": "4afa6348",
   "metadata": {},
   "outputs": [
    {
     "data": {
      "text/html": [
       "<div>\n",
       "<style scoped>\n",
       "    .dataframe tbody tr th:only-of-type {\n",
       "        vertical-align: middle;\n",
       "    }\n",
       "\n",
       "    .dataframe tbody tr th {\n",
       "        vertical-align: top;\n",
       "    }\n",
       "\n",
       "    .dataframe thead th {\n",
       "        text-align: right;\n",
       "    }\n",
       "</style>\n",
       "<table border=\"1\" class=\"dataframe\">\n",
       "  <thead>\n",
       "    <tr style=\"text-align: right;\">\n",
       "      <th></th>\n",
       "      <th>start_lat</th>\n",
       "      <th>start_lng</th>\n",
       "      <th>end_lat</th>\n",
       "      <th>end_lng</th>\n",
       "      <th>month</th>\n",
       "      <th>trip_length</th>\n",
       "      <th>trip_seconds</th>\n",
       "      <th>day_of_week_index</th>\n",
       "    </tr>\n",
       "  </thead>\n",
       "  <tbody>\n",
       "    <tr>\n",
       "      <th>count</th>\n",
       "      <td>4.198497e+06</td>\n",
       "      <td>4.198497e+06</td>\n",
       "      <td>4.198497e+06</td>\n",
       "      <td>4.198497e+06</td>\n",
       "      <td>4.198497e+06</td>\n",
       "      <td>4198497</td>\n",
       "      <td>4.198497e+06</td>\n",
       "      <td>4.198497e+06</td>\n",
       "    </tr>\n",
       "    <tr>\n",
       "      <th>mean</th>\n",
       "      <td>4.190198e+01</td>\n",
       "      <td>-8.764467e+01</td>\n",
       "      <td>4.190230e+01</td>\n",
       "      <td>-8.764495e+01</td>\n",
       "      <td>7.070903e+00</td>\n",
       "      <td>0 days 00:17:24.097305535</td>\n",
       "      <td>1.044097e+03</td>\n",
       "      <td>3.048397e+00</td>\n",
       "    </tr>\n",
       "    <tr>\n",
       "      <th>std</th>\n",
       "      <td>4.267613e-02</td>\n",
       "      <td>2.485534e-02</td>\n",
       "      <td>4.286484e-02</td>\n",
       "      <td>2.505811e-02</td>\n",
       "      <td>2.518611e+00</td>\n",
       "      <td>0 days 00:31:02.342903210</td>\n",
       "      <td>1.862343e+03</td>\n",
       "      <td>1.980192e+00</td>\n",
       "    </tr>\n",
       "    <tr>\n",
       "      <th>min</th>\n",
       "      <td>4.164900e+01</td>\n",
       "      <td>-8.783000e+01</td>\n",
       "      <td>4.164900e+01</td>\n",
       "      <td>-8.783000e+01</td>\n",
       "      <td>1.000000e+00</td>\n",
       "      <td>0 days 00:01:01</td>\n",
       "      <td>6.100000e+01</td>\n",
       "      <td>0.000000e+00</td>\n",
       "    </tr>\n",
       "    <tr>\n",
       "      <th>25%</th>\n",
       "      <td>4.188100e+01</td>\n",
       "      <td>-8.765800e+01</td>\n",
       "      <td>4.188100e+01</td>\n",
       "      <td>-8.765800e+01</td>\n",
       "      <td>5.000000e+00</td>\n",
       "      <td>0 days 00:06:19</td>\n",
       "      <td>3.790000e+02</td>\n",
       "      <td>1.000000e+00</td>\n",
       "    </tr>\n",
       "    <tr>\n",
       "      <th>50%</th>\n",
       "      <td>4.189700e+01</td>\n",
       "      <td>-8.764100e+01</td>\n",
       "      <td>4.189800e+01</td>\n",
       "      <td>-8.764200e+01</td>\n",
       "      <td>7.000000e+00</td>\n",
       "      <td>0 days 00:10:52</td>\n",
       "      <td>6.520000e+02</td>\n",
       "      <td>3.000000e+00</td>\n",
       "    </tr>\n",
       "    <tr>\n",
       "      <th>75%</th>\n",
       "      <td>4.192900e+01</td>\n",
       "      <td>-8.762800e+01</td>\n",
       "      <td>4.192900e+01</td>\n",
       "      <td>-8.762800e+01</td>\n",
       "      <td>9.000000e+00</td>\n",
       "      <td>0 days 00:19:24</td>\n",
       "      <td>1.164000e+03</td>\n",
       "      <td>5.000000e+00</td>\n",
       "    </tr>\n",
       "    <tr>\n",
       "      <th>max</th>\n",
       "      <td>4.206500e+01</td>\n",
       "      <td>-8.752500e+01</td>\n",
       "      <td>4.206500e+01</td>\n",
       "      <td>-8.752800e+01</td>\n",
       "      <td>1.200000e+01</td>\n",
       "      <td>0 days 23:59:22</td>\n",
       "      <td>8.636200e+04</td>\n",
       "      <td>6.000000e+00</td>\n",
       "    </tr>\n",
       "  </tbody>\n",
       "</table>\n",
       "</div>"
      ],
      "text/plain": [
       "          start_lat     start_lng       end_lat       end_lng         month  \\\n",
       "count  4.198497e+06  4.198497e+06  4.198497e+06  4.198497e+06  4.198497e+06   \n",
       "mean   4.190198e+01 -8.764467e+01  4.190230e+01 -8.764495e+01  7.070903e+00   \n",
       "std    4.267613e-02  2.485534e-02  4.286484e-02  2.505811e-02  2.518611e+00   \n",
       "min    4.164900e+01 -8.783000e+01  4.164900e+01 -8.783000e+01  1.000000e+00   \n",
       "25%    4.188100e+01 -8.765800e+01  4.188100e+01 -8.765800e+01  5.000000e+00   \n",
       "50%    4.189700e+01 -8.764100e+01  4.189800e+01 -8.764200e+01  7.000000e+00   \n",
       "75%    4.192900e+01 -8.762800e+01  4.192900e+01 -8.762800e+01  9.000000e+00   \n",
       "max    4.206500e+01 -8.752500e+01  4.206500e+01 -8.752800e+01  1.200000e+01   \n",
       "\n",
       "                     trip_length  trip_seconds  day_of_week_index  \n",
       "count                    4198497  4.198497e+06       4.198497e+06  \n",
       "mean   0 days 00:17:24.097305535  1.044097e+03       3.048397e+00  \n",
       "std    0 days 00:31:02.342903210  1.862343e+03       1.980192e+00  \n",
       "min              0 days 00:01:01  6.100000e+01       0.000000e+00  \n",
       "25%              0 days 00:06:19  3.790000e+02       1.000000e+00  \n",
       "50%              0 days 00:10:52  6.520000e+02       3.000000e+00  \n",
       "75%              0 days 00:19:24  1.164000e+03       5.000000e+00  \n",
       "max              0 days 23:59:22  8.636200e+04       6.000000e+00  "
      ]
     },
     "execution_count": 54,
     "metadata": {},
     "output_type": "execute_result"
    }
   ],
   "source": [
    "tripdata.describe(include=[np.number])"
   ]
  },
  {
   "cell_type": "code",
   "execution_count": 29,
   "id": "1d3e8a6c",
   "metadata": {
    "scrolled": true
   },
   "outputs": [
    {
     "data": {
      "text/plain": [
       "member    2509187\n",
       "casual    1689310\n",
       "Name: member_casual, dtype: int64"
      ]
     },
     "execution_count": 29,
     "metadata": {},
     "output_type": "execute_result"
    }
   ],
   "source": [
    "# Checking the number of users in each type over past 12 months\n",
    "member_type = tripdata[\"member_casual\"].value_counts()\n",
    "member_type"
   ]
  },
  {
   "cell_type": "code",
   "execution_count": 30,
   "id": "3d0bdf47",
   "metadata": {},
   "outputs": [
    {
     "data": {
      "text/plain": [
       "Text(0, 0.5, 'Rides in millions')"
      ]
     },
     "execution_count": 30,
     "metadata": {},
     "output_type": "execute_result"
    },
    {
     "data": {
      "image/png": "[encoded data removed]",
      "text/plain": [
       "<Figure size 600x600 with 1 Axes>"
      ]
     },
     "metadata": {},
     "output_type": "display_data"
    }
   ],
   "source": [
    "# Plotting the count of Member and Casual rides\n",
    "plt.figure(figsize=(6, 6))\n",
    "ax = sns.countplot(x='member_casual', hue='member_casual', data=tripdata)\n",
    "ax.set_title(\"Count of rides by user type\")\n",
    "ax.set_xlabel(\"Rideable Type\")\n",
    "ax.set_ylabel(\"Rides in millions\")"
   ]
  },
  {
   "cell_type": "code",
   "execution_count": 31,
   "id": "750fe8b7",
   "metadata": {},
   "outputs": [
    {
     "name": "stderr",
     "output_type": "stream",
     "text": [
      "C:\\Users\\HAL9K\\AppData\\Local\\Temp\\ipykernel_39924\\1612470138.py:5: UserWarning: You have mixed positional and keyword arguments, some input may be discarded.\n",
      "  plt.legend(member_type.index, labels= [\"Member\", \"Casual\"])\n"
     ]
    },
    {
     "data": {
      "image/png": "[encoded data removed]",
      "text/plain": [
       "<Figure size 800x600 with 1 Axes>"
      ]
     },
     "metadata": {},
     "output_type": "display_data"
    }
   ],
   "source": [
    "# Plotting a pie chart of users in each type\n",
    "plt.figure(figsize=(8, 6))\n",
    "plt.pie(member_type.values, autopct=\"%1.2f%%\")\n",
    "plt.title(\"Percentage of users in each type\")\n",
    "plt.legend(member_type.index, labels= [\"Member\", \"Casual\"])\n",
    "plt.show()"
   ]
  },
  {
   "cell_type": "markdown",
   "id": "1463a87d",
   "metadata": {},
   "source": [
    "Just shy of 60% of the rides were done by members and only about 40% of the rides were casual riders, meaning that the company is in a relatively good health."
   ]
  },
  {
   "cell_type": "code",
   "execution_count": 32,
   "id": "5424c04e",
   "metadata": {
    "scrolled": true
   },
   "outputs": [
    {
     "data": {
      "text/plain": [
       "month  member_casual\n",
       "1      member            66371\n",
       "       casual            12387\n",
       "2      member            72394\n",
       "       casual            14869\n",
       "3      member           146040\n",
       "       casual            66016\n",
       "4      member           176011\n",
       "       casual            89562\n",
       "5      member           271333\n",
       "       casual           211691\n",
       "6      member           315039\n",
       "       casual           280463\n",
       "7      member           317338\n",
       "       casual           299459\n",
       "8      member           319991\n",
       "       casual           258482\n",
       "9      member           299711\n",
       "       casual           210857\n",
       "10     member           252140\n",
       "       casual           145024\n",
       "11     member           174173\n",
       "       casual            70479\n",
       "12     member            98646\n",
       "       casual            30021\n",
       "Name: member_casual, dtype: int64"
      ]
     },
     "execution_count": 32,
     "metadata": {},
     "output_type": "execute_result"
    }
   ],
   "source": [
    "# Checking the number of users over months\n",
    "users_over_month = tripdata.groupby(\"month\")[\"member_casual\"].value_counts()\n",
    "users_over_month"
   ]
  },
  {
   "cell_type": "code",
   "execution_count": 33,
   "id": "a3149a4c",
   "metadata": {},
   "outputs": [],
   "source": [
    "# Segregating the number of users into member or casual riders over months\n",
    "list_month = []\n",
    "list_x = []\n",
    "list_y = list(users_over_month.values)\n",
    "for i, j in users_over_month.index:\n",
    "    list_x.append(j)\n",
    "    list_month.append(str(i))"
   ]
  },
  {
   "cell_type": "code",
   "execution_count": 34,
   "id": "921f63e0",
   "metadata": {
    "scrolled": true
   },
   "outputs": [
    {
     "data": {
      "text/plain": [
       "Text(0, 0.5, 'Count')"
      ]
     },
     "execution_count": 34,
     "metadata": {},
     "output_type": "execute_result"
    },
    {
     "data": {
      "image/png": "[encoded data removed]",
      "text/plain": [
       "<Figure size 1800x800 with 1 Axes>"
      ]
     },
     "metadata": {},
     "output_type": "display_data"
    }
   ],
   "source": [
    "# Plotting the count of Member and Casual riders over months\n",
    "plt.figure(figsize=(18, 8))\n",
    "ax = sns.countplot(x='month', hue='member_casual', data=tripdata)\n",
    "ax.set_xticklabels([\"January\", \"February\", \"March\", \"April\", \"May\", \"June\", \"July\", \"August\", \"September\", \"October\", \"November\", \"December\"])\n",
    "ax.set_title(\"Count of Member and Casual Riders over months\")\n",
    "ax.set_xlabel(\"Months\")\n",
    "ax.set_ylabel(\"Count\")"
   ]
  },
  {
   "cell_type": "markdown",
   "id": "886e8a96",
   "metadata": {},
   "source": [
    "Clearly the most rides happen during the spring and summer seasons, from the months of May to September. The gap between members and casual riders also reduces drastically during this period. The good weather attracts local customers to use the bikes, and as this is a vacation season, many tourists might also use the bikes, presumably everyone of them using as a casual user."
   ]
  },
  {
   "cell_type": "markdown",
   "id": "7ef2e332",
   "metadata": {},
   "source": [
    "#### Analysing the total rides across the days of the week"
   ]
  },
  {
   "cell_type": "code",
   "execution_count": 35,
   "id": "35dc8bcb",
   "metadata": {},
   "outputs": [],
   "source": [
    "# Assigning numbers from 0 through 1 to the days of the week for better sorting\n",
    "week_day = { \"Monday\": 0, \"Tuesday\": 1, \"Wednesday\": 2, \"Thursday\": 3, \"Friday\": 4, \"Saturday\": 5, \"Sunday\": 6}\n",
    "tripdata[\"day_of_week_index\"] = tripdata[\"day_of_week\"].apply(lambda y: week_day[y])"
   ]
  },
  {
   "cell_type": "code",
   "execution_count": 36,
   "id": "84594bd4",
   "metadata": {},
   "outputs": [],
   "source": [
    "# Creating new dataframes with data of member and casual riders separately\n",
    "member = tripdata[tripdata['member_casual'].str.contains('member')]\n",
    "casual = tripdata[tripdata['member_casual'].str.contains('casual')]"
   ]
  },
  {
   "cell_type": "code",
   "execution_count": 37,
   "id": "6c906343",
   "metadata": {
    "scrolled": true
   },
   "outputs": [
    {
     "name": "stdout",
     "output_type": "stream",
     "text": [
      "The most rides are on 0    Saturday\n",
      "Name: day_of_week, dtype: object\n"
     ]
    }
   ],
   "source": [
    "# Calculating the mode of day of the week\n",
    "print(\"The most rides are on\",tripdata['day_of_week'].mode())"
   ]
  },
  {
   "cell_type": "code",
   "execution_count": 38,
   "id": "653ec2b0",
   "metadata": {
    "scrolled": false
   },
   "outputs": [
    {
     "name": "stdout",
     "output_type": "stream",
     "text": [
      "Members most use the bikes on 0    Thursday\n",
      "Name: day_of_week, dtype: object\n",
      "Casual users most use the bikes on 0    Saturday\n",
      "Name: day_of_week, dtype: object\n"
     ]
    }
   ],
   "source": [
    "# Finding the mode of day of the week for member and cansual riders\n",
    "print(\"Members most use the bikes on\" ,member['day_of_week'].mode()),\n",
    "print(\"Casual users most use the bikes on\", casual['day_of_week'].mode())"
   ]
  },
  {
   "cell_type": "code",
   "execution_count": 39,
   "id": "177e18af",
   "metadata": {
    "scrolled": true
   },
   "outputs": [
    {
     "data": {
      "text/plain": [
       "day_of_week_index\n",
       "0    564283\n",
       "1    585418\n",
       "2    593187\n",
       "3    620674\n",
       "4    584341\n",
       "5    676055\n",
       "6    574539\n",
       "Name: ride_id, dtype: int64"
      ]
     },
     "execution_count": 39,
     "metadata": {},
     "output_type": "execute_result"
    }
   ],
   "source": [
    "# Counting all users by day of week \n",
    "users_week_day = tripdata.groupby(\"day_of_week_index\")[\"ride_id\"].count()\n",
    "users_week_day.sort_index()"
   ]
  },
  {
   "cell_type": "code",
   "execution_count": 40,
   "id": "5b3e32ae",
   "metadata": {
    "scrolled": true
   },
   "outputs": [
    {
     "data": {
      "text/plain": [
       "day_of_week_index\n",
       "0    361372\n",
       "1    396324\n",
       "2    397359\n",
       "3    399702\n",
       "4    345669\n",
       "5    323614\n",
       "6    285147\n",
       "Name: ride_id, dtype: int64"
      ]
     },
     "execution_count": 40,
     "metadata": {},
     "output_type": "execute_result"
    }
   ],
   "source": [
    "# Counting member users by day of week\n",
    "member_week_day = member.groupby(\"day_of_week_index\")[\"ride_id\"].count()\n",
    "member_week_day.sort_index()"
   ]
  },
  {
   "cell_type": "code",
   "execution_count": 41,
   "id": "e021ac7e",
   "metadata": {
    "scrolled": true
   },
   "outputs": [
    {
     "data": {
      "text/plain": [
       "day_of_week_index\n",
       "0    202911\n",
       "1    189094\n",
       "2    195828\n",
       "3    220972\n",
       "4    238672\n",
       "5    352441\n",
       "6    289392\n",
       "Name: ride_id, dtype: int64"
      ]
     },
     "execution_count": 41,
     "metadata": {},
     "output_type": "execute_result"
    }
   ],
   "source": [
    "# Counting casual users by day of week\n",
    "casual_week_day = casual.groupby(\"day_of_week_index\")[\"ride_id\"].count()\n",
    "casual_week_day.sort_index()"
   ]
  },
  {
   "cell_type": "code",
   "execution_count": 42,
   "id": "ea3f7589",
   "metadata": {
    "scrolled": true
   },
   "outputs": [
    {
     "data": {
      "image/png": "[encoded data removed]",
      "text/plain": [
       "<Figure size 800x600 with 1 Axes>"
      ]
     },
     "metadata": {},
     "output_type": "display_data"
    }
   ],
   "source": [
    "# Plotting the graph of Weekday vs Number of Rides\n",
    "plt.figure(figsize= (8,6))\n",
    "plt.plot(users_week_day.index, users_week_day.values)\n",
    "plt.plot(member_week_day.index, member_week_day.values)\n",
    "plt.plot(casual_week_day.index, casual_week_day.values)\n",
    "plt.title(\"Numbers of rides for different users by week_day by adding Count of ride_id to Values\")\n",
    "plt.legend([\"User\", \"Member\", \"Casual\"])\n",
    "labels = [\"Monday\", \"Tuesday\", \"Wednesday\", \"Thursday\", \"Friday\", \"Saturday\",\"Sunday\"]\n",
    "plt.xticks(users_week_day.index, labels)\n",
    "plt.show()"
   ]
  },
  {
   "cell_type": "markdown",
   "id": "e13d664a",
   "metadata": {},
   "source": [
    "The weekly trends suggest that the rides go up towards the end of the week from Thursday and peaking at Saturday. But upon comparing the two types of users, the trend is drastically different. Members ride more during the working week and the casual riders ride more during the weekend. "
   ]
  },
  {
   "cell_type": "markdown",
   "id": "fb774998",
   "metadata": {},
   "source": [
    "#### Analysing the trip length"
   ]
  },
  {
   "cell_type": "code",
   "execution_count": 43,
   "id": "42326a3f",
   "metadata": {},
   "outputs": [
    {
     "name": "stdout",
     "output_type": "stream",
     "text": [
      "The average ride length is  0 days 00:17:24.097305535\n"
     ]
    }
   ],
   "source": [
    "# Finding the average ride length \n",
    "print(\"The average ride length is \",tripdata['trip_length'].mean())"
   ]
  },
  {
   "cell_type": "code",
   "execution_count": 44,
   "id": "555dbd78",
   "metadata": {},
   "outputs": [
    {
     "name": "stdout",
     "output_type": "stream",
     "text": [
      "The maximum ride length is  0 days 23:59:22\n"
     ]
    }
   ],
   "source": [
    "# Finding the maximum ride length\n",
    "print(\"The maximum ride length is \",tripdata['trip_length'].max())"
   ]
  },
  {
   "cell_type": "code",
   "execution_count": 45,
   "id": "e18ff3db",
   "metadata": {},
   "outputs": [
    {
     "name": "stdout",
     "output_type": "stream",
     "text": [
      "The average ride length for members is  0 days 00:12:43.439376180 and the average ride length of casual riders is 0 days 00:24:20.967641818\n"
     ]
    }
   ],
   "source": [
    "# Calculating the mean ride length for member and cansual riders\n",
    "print(\"The average ride length for members is \",member['trip_length'].mean(), \"and the average ride length of casual riders is\",casual['trip_length'].mean())"
   ]
  },
  {
   "cell_type": "code",
   "execution_count": 46,
   "id": "7d40998c",
   "metadata": {
    "scrolled": true
   },
   "outputs": [
    {
     "data": {
      "text/plain": [
       "day_of_week_index\n",
       "0   0 days 00:16:50.792625331\n",
       "1   0 days 00:15:11.468685622\n",
       "2   0 days 00:15:02.506585612\n",
       "3   0 days 00:15:36.330041213\n",
       "4   0 days 00:16:41.727782236\n",
       "5   0 days 00:21:02.334441724\n",
       "6   0 days 00:21:00.849348782\n",
       "Name: trip_length, dtype: timedelta64[ns]"
      ]
     },
     "execution_count": 46,
     "metadata": {},
     "output_type": "execute_result"
    }
   ],
   "source": [
    "# Calculating the average ride_length for all users by day of week\n",
    "user_avg_ride_len_week_day = tripdata.groupby(\"day_of_week_index\")[\"trip_length\"].mean(numeric_only=False)\n",
    "user_avg_ride_len_week_day"
   ]
  },
  {
   "cell_type": "code",
   "execution_count": 47,
   "id": "bbed87b2",
   "metadata": {
    "scrolled": true
   },
   "outputs": [
    {
     "data": {
      "text/plain": [
       "day_of_week_index\n",
       "0   0 days 00:12:16.252310638\n",
       "1   0 days 00:12:01.670623025\n",
       "2   0 days 00:12:06.106973794\n",
       "3   0 days 00:12:16.251407298\n",
       "4   0 days 00:12:29.914172228\n",
       "5   0 days 00:14:20.927051981\n",
       "6   0 days 00:14:11.839121575\n",
       "Name: trip_length, dtype: timedelta64[ns]"
      ]
     },
     "execution_count": 47,
     "metadata": {},
     "output_type": "execute_result"
    }
   ],
   "source": [
    "# Calculating the average ride_length for members by week_day\n",
    "member_avg_ride_len_week_day = tripdata[tripdata[\"member_casual\"] == \"member\"].groupby(\n",
    "    \"day_of_week_index\")[\"trip_length\"].mean(numeric_only=False)\n",
    "member_avg_ride_len_week_day"
   ]
  },
  {
   "cell_type": "code",
   "execution_count": 48,
   "id": "a6957d49",
   "metadata": {
    "scrolled": true
   },
   "outputs": [
    {
     "data": {
      "text/plain": [
       "day_of_week_index\n",
       "0   0 days 00:24:59.732025370\n",
       "1   0 days 00:21:49.268337440\n",
       "2   0 days 00:21:00.443006107\n",
       "3   0 days 00:21:38.239378744\n",
       "4   0 days 00:22:46.429794864\n",
       "5   0 days 00:27:10.909752270\n",
       "6   0 days 00:27:43.859933930\n",
       "Name: trip_length, dtype: timedelta64[ns]"
      ]
     },
     "execution_count": 48,
     "metadata": {},
     "output_type": "execute_result"
    }
   ],
   "source": [
    "# Calculating the average ride_length for members by week_day\n",
    "casual_avg_ride_len_week_day = tripdata[tripdata[\"member_casual\"] == \"casual\"].groupby(\n",
    "    \"day_of_week_index\")[\"trip_length\"].mean(numeric_only=False)\n",
    "casual_avg_ride_len_week_day"
   ]
  },
  {
   "cell_type": "code",
   "execution_count": 49,
   "id": "2f4ffcaf",
   "metadata": {
    "scrolled": true
   },
   "outputs": [
    {
     "data": {
      "image/png": "[encoded data removed]",
      "text/plain": [
       "<Figure size 800x600 with 1 Axes>"
      ]
     },
     "metadata": {},
     "output_type": "display_data"
    }
   ],
   "source": [
    "# Plotting the graph of Weekday vs Average ride length\n",
    "plt.figure(figsize=(8, 6))\n",
    "plt.plot(user_avg_ride_len_week_day/pd.Timedelta(minutes=1))\n",
    "plt.plot(member_avg_ride_len_week_day/pd.Timedelta(minutes=1))\n",
    "plt.plot(casual_avg_ride_len_week_day/pd.Timedelta(minutes=1))\n",
    "plt.title(\"The average ride_length for different users by week_day in minutes\")\n",
    "plt.legend([\"User\", \"Member\", \"Casual\"])\n",
    "labels = [\"Monday\", \"Tuesday\", \"Wednesday\", \"Thursday\", \"Friday\", \"Saturday\",\"Sunday\"]\n",
    "plt.xticks(user_avg_ride_len_week_day.index, labels)\n",
    "plt.show()"
   ]
  },
  {
   "cell_type": "markdown",
   "id": "d01ad8a0",
   "metadata": {},
   "source": [
    "The average ride length follows the trend of the number of rides, peaking during the weekend. Upon comparing the users, it apears that the average ride length of members is almost half the average ride length of casual riders."
   ]
  },
  {
   "cell_type": "code",
   "execution_count": 50,
   "id": "62e82898",
   "metadata": {
    "scrolled": true
   },
   "outputs": [
    {
     "data": {
      "text/plain": [
       "Text(0, 0.5, 'Rides in millions')"
      ]
     },
     "execution_count": 50,
     "metadata": {},
     "output_type": "execute_result"
    },
    {
     "data": {
      "image/png": "[encoded data removed]",
      "text/plain": [
       "<Figure size 1800x800 with 1 Axes>"
      ]
     },
     "metadata": {},
     "output_type": "display_data"
    }
   ],
   "source": [
    "# Plotting the count of Member and Casual riders by rideable type\n",
    "plt.figure(figsize=(18, 8))\n",
    "ax = sns.countplot(x='rideable_type', hue='member_casual', data=tripdata)\n",
    "ax.set_title(\"Count of Member and Casual Riders over months\")\n",
    "ax.set_xlabel(\"Rideable Type\")\n",
    "ax.set_ylabel(\"Rides in millions\")"
   ]
  },
  {
   "cell_type": "markdown",
   "id": "94f8c00a",
   "metadata": {},
   "source": [
    "Comparing the rideable types, classic bikes are most common, followed by electric bike and the docked bike has a minority share. The casual riders use electric and classic bikes almost equally, but the members seem to have a strong preference for classic bike over the electric bike."
   ]
  },
  {
   "cell_type": "code",
   "execution_count": 51,
   "id": "8a622851",
   "metadata": {},
   "outputs": [],
   "source": [
    "tripdata.to_csv('tripdata_export')"
   ]
  }
 ],
 "metadata": {
  "kernelspec": {
   "display_name": "Python 3 (ipykernel)",
   "language": "python",
   "name": "python3"
  },
  "language_info": {
   "codemirror_mode": {
    "name": "ipython",
    "version": 3
   },
   "file_extension": ".py",
   "mimetype": "text/x-python",
   "name": "python",
   "nbconvert_exporter": "python",
   "pygments_lexer": "ipython3",
   "version": "3.10.9"
  }
 },
 "nbformat": 4,
 "nbformat_minor": 5
}
